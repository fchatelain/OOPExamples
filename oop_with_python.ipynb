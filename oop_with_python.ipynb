{
 "cells": [
  {
   "cell_type": "markdown",
   "id": "10e3841d-6776-45c7-bc74-002f62923afb",
   "metadata": {},
   "source": [
    "\n"
   ]
  },
  {
   "cell_type": "markdown",
   "id": "c1a8e894-6592-4cfb-978a-13ea7e690045",
   "metadata": {},
   "source": [
    "# Python c'est de la programmation objet ?\n",
    "\n",
    "Attention Python n'est pas qu'un simple langage de script... C'est aussi un langage orienté objet qui permet de définir des types d'objets, c'est à dire des classes, ainsi que les propriétés et les opérations associées, le tout de manière hautement dynamique.\n",
    "\n",
    "Ce notebook a pour objectif de présenter les principes de la POO en Python, en reprenant les notions et exemples introduits dans les fiches de votre cours de POO java. Il est organisé selon les points ci dessous : \n",
    "\n",
    "1. [La notion de classe et d'objets en python](#au-commencement-est-l-objet)\n",
    "2. [Attributs, constructeurs et méthode](#attributs-constructeurs-methodes) \n",
    "3. [Encapsulation : visibilité et droits d'accès](#encapsulation)\n",
    "4. [Héritage, polymorphisme et abstraction](#heritage)\n",
    "\n",
    "\n",
    "Voici aussi quelques ressources en ligne, résumées partiellement dans ce notebook et utiles pour aller plus loin :\n",
    "- une [documentation python](https://docs.python.org/fr/3/tutorial/classes.html) sur les classes et la POO \n",
    "- un [cours d'introduction de l'université Paris Diderot](https://python.sdv.univ-paris-diderot.fr/19_avoir_la_classe_avec_les_objets/) sur la POO en Python \n",
    "- un [excellent cours de la plateforme *Zeste de savoir*](https://zestedesavoir.com/tutoriels/954/notions-de-python-avancees/4-classes/) sur les spécifités de python pour la POO avec en particulier une bonne introduction sur les *MetaClasses* "
   ]
  },
  {
   "cell_type": "markdown",
   "id": "45c52072-6066-4624-a431-dc37bf51f0fb",
   "metadata": {},
   "source": [
    "https://jupyterhub.u-ga.fr/hub/user-redirect/git-pull?repo=https%3A%2F%2Fgitlab.ensimag.fr%2Fens_phelma%2F2a_poo_s4%2FRessources&urlpath=lab%2Ftree%2FRessources%2Foop_with_python.ipynb&branch=master"
   ]
  },
  {
   "cell_type": "markdown",
   "id": "5b303bab-c4be-464b-8f24-70726cddfb1f",
   "metadata": {},
   "source": [
    "<a id='au-commencement-est-l-objet'></a>\n",
    "## I. Au commencement est l'objet\n",
    "\n",
    "\n",
    "Il existe en Java des classes *wrappers* pour les types primitifs &ndash; par exemple la classe `Integer` pour le type natif `ìnt` &ndash; afin de les convertir en objet lorsque c'est nécessaire (souvenez vous de l'*autoboxing*). \n",
    "\n",
    "Tout est objet en Python, même les types primitifs ! Une variable de type `int` est un objet construit à partir de la classe `int` !  Pareil pour les `float`, `string` ou autre `complex`. Et c'est également vrai pour les conteneurs commes les `list`, `tuple`, `dict`, ..."
   ]
  },
  {
   "cell_type": "code",
   "execution_count": 1,
   "id": "6c4aa274-8879-492e-85f3-1c449512efc9",
   "metadata": {},
   "outputs": [
    {
     "name": "stdout",
     "output_type": "stream",
     "text": [
      "0\n",
      "<class 'int'>\n"
     ]
    }
   ],
   "source": [
    "# Exemple pour un 'int'\n",
    "\n",
    "# Appelons explicitement le constructeur par défaut\n",
    "i = int()  # Equivalent à `i = 0`\n",
    "# Affichons cet objet\n",
    "print(i)\n",
    "# Affichons son type\n",
    "print(type(i))"
   ]
  },
  {
   "cell_type": "code",
   "execution_count": 2,
   "id": "8f200817-a4fa-4250-acbb-ed76178f1eab",
   "metadata": {},
   "outputs": [
    {
     "name": "stdout",
     "output_type": "stream",
     "text": [
      "0.0\n",
      "<class 'float'>\n"
     ]
    }
   ],
   "source": [
    "# la même chose avec un 'float'\n",
    "f = float()  # Equivalent à `f = 0.0`\n",
    "print(f)\n",
    "print(type(f))"
   ]
  },
  {
   "cell_type": "code",
   "execution_count": 3,
   "id": "5133271e-7fe9-4e88-9621-7129b205ed6a",
   "metadata": {},
   "outputs": [
    {
     "name": "stdout",
     "output_type": "stream",
     "text": [
      "''\n",
      "<class 'str'>\n"
     ]
    }
   ],
   "source": [
    "# terminons avec un string 'str'\n",
    "s = str()  # Equivalent à `s = \"\"`\n",
    "print(\"'\" + s + \"'\")\n",
    "print(type(s))"
   ]
  },
  {
   "cell_type": "code",
   "execution_count": 4,
   "id": "f0821652-06d0-49aa-8ec6-593593278a89",
   "metadata": {},
   "outputs": [
    {
     "name": "stdout",
     "output_type": "stream",
     "text": [
      "[]\n",
      "<class 'list'>\n"
     ]
    }
   ],
   "source": [
    "# et aussi une liste\n",
    "l = list()  # Equivalent à `l = []`\n",
    "print(l)\n",
    "print(type(l))"
   ]
  },
  {
   "cell_type": "markdown",
   "id": "2b24e208-a6dd-404d-a0f6-88ecc7c140b3",
   "metadata": {},
   "source": [
    "On peut aller encore plus loin :  quel est le type d'un type d'objet (ici un `int`) ?"
   ]
  },
  {
   "cell_type": "code",
   "execution_count": 5,
   "id": "eb04250e-8fc9-4aa1-9510-326cf10e3eaa",
   "metadata": {},
   "outputs": [
    {
     "name": "stdout",
     "output_type": "stream",
     "text": [
      "<class 'type'>\n"
     ]
    }
   ],
   "source": [
    "# (une instance du) type d'un type de int...\n",
    "t = type(type(i))  #  Equivalent à `type(int)`\n",
    "print(t)"
   ]
  },
  {
   "cell_type": "markdown",
   "id": "e0b03d13-5ec0-4366-804d-5081e7180cad",
   "metadata": {},
   "source": [
    "Le type d'un objet est donc une instance (i.e. un objet) de la classe `type`.\n",
    "On constate bien que **tout est objet** en python ! \n",
    "\n",
    "**Question :** si on continuait le raisonnement,  quel serait le type du type du type etc... ? A tester pour vérifier."
   ]
  },
  {
   "cell_type": "markdown",
   "id": "455065c6-034c-4ee8-b582-75bbeab64975",
   "metadata": {},
   "source": [
    "## La Classe en Python\n",
    "\n",
    "Reprenons l'étude de nos chers Pangolins...\n",
    "\n",
    "### La classe minimale"
   ]
  },
  {
   "cell_type": "code",
   "execution_count": 6,
   "id": "22574208-b953-44b4-82ae-14ba2d14f29e",
   "metadata": {},
   "outputs": [
    {
     "name": "stdout",
     "output_type": "stream",
     "text": [
      "<class 'type'>\n"
     ]
    }
   ],
   "source": [
    "# Une premiere classe triviale\n",
    "class Pangolin:\n",
    "    pass\n",
    "\n",
    "\n",
    "print(type(Pangolin))"
   ]
  },
  {
   "cell_type": "markdown",
   "id": "805a710a-efcc-4466-9fd8-4c4ab55ffe8f",
   "metadata": {},
   "source": [
    "La classe qu'on vient de définir est vide. Notons les points suivant :\n",
    "- *Syntaxe* : il faut écrire au moins une ligne après la déclaration pour pouvoir la définir la classe. On met ici le mot-clé `pass` qui ne fait rien...\n",
    "- *Coding Style* : comme en java, la convention en Python pour nommer les classes est le *CamelCase*  (hormis les classes *builtins* comme les types natifs comme `int`  etc... couramment écrits en lettres minuscules) : on met une capitale à la première lettre de chaque mot y compris le premier, par exemple `MonNomDeClasse`.\n",
    "- *Typage* : lorsqu'on affiche le type de notre classe  `Pangolin`, il s'agit d'un type au même titre que `type(int)`. Nous avons donc créé un nouveau type !\n",
    "\n",
    "Crééons maintenant un de ces petits animaux, i.e. un objet qui est une *instance* de `Pangolin`"
   ]
  },
  {
   "cell_type": "code",
   "execution_count": 7,
   "id": "4af2e0fb-adf9-4b5f-ade1-e2bf58abc4e8",
   "metadata": {},
   "outputs": [
    {
     "name": "stdout",
     "output_type": "stream",
     "text": [
      "<__main__.Pangolin object at 0x7f0d48181990>\n",
      "<class '__main__.Pangolin'>\n"
     ]
    },
    {
     "data": {
      "text/plain": [
       "True"
      ]
     },
     "execution_count": 7,
     "metadata": {},
     "output_type": "execute_result"
    }
   ],
   "source": [
    "# Instancions un objet de la classe Pangolin\n",
    "rantanplan = Pangolin()\n",
    "\n",
    "print(rantanplan)\n",
    "print(type(rantanplan))\n",
    "isinstance(rantanplan, Pangolin)"
   ]
  },
  {
   "cell_type": "markdown",
   "id": "782cfd3a-8fc4-47cd-8169-a1da15a2a3b0",
   "metadata": {},
   "source": [
    "On peut remarquer que\n",
    "- comme en java, le constructeur par défaut porte le nom de classe suivi d'une paire de parenthèses, ici  `Pangolin()`. Mais *pas besoin en Python* de faire précéder l'appel du constructeur par le mot clé `ǹew` pour instancier notre objet.\n",
    "- Lorsqu'on affiche l'instance `rantanplan`, l'interpréteur nous rappelle qu'il s'agit d'un objet de type `Pangolin` (qui est par défaut dans un module exécutable, ce qui explique le préfixe `__main__.`) ainsi que son adresse en mémoire.\n",
    "- l'appel de la fonction `isinstance()` nous permet de vérifier que l'instance `rantanplan` est bien issue de la classe  `Pangolin` "
   ]
  },
  {
   "cell_type": "markdown",
   "id": "cab86591-7586-4160-add3-775b5b3eb7c3",
   "metadata": {},
   "source": [
    "### Et les attributs ?\n",
    "\n",
    "Pour l'instant notre pauvre pangolin est bien démuni : il ne possède aucun attribut pour caractériser son état."
   ]
  },
  {
   "cell_type": "code",
   "execution_count": 8,
   "id": "a8b89497-f914-4775-9491-aa2f41ff29e8",
   "metadata": {},
   "outputs": [
    {
     "data": {
      "text/plain": [
       "{}"
      ]
     },
     "execution_count": 8,
     "metadata": {},
     "output_type": "execute_result"
    }
   ],
   "source": [
    "#  Un peu d'introspection : dans quel état j'erre ?\n",
    "#  Il est possible d'accéder aux noms/valeurs des attributs que possède un objet.\n",
    "rantanplan.__dict__"
   ]
  },
  {
   "cell_type": "markdown",
   "id": "cc8872b6-0a98-4546-b4ce-5ccea489599d",
   "metadata": {},
   "source": [
    "Ajoutons lui quelques propriétés utiles. Ceci peut se faire *dynamiquement* sur l'objet en Python"
   ]
  },
  {
   "cell_type": "code",
   "execution_count": 9,
   "id": "75fce6f9-246f-4aaa-96e6-80486b8bbe5c",
   "metadata": {},
   "outputs": [
    {
     "name": "stdout",
     "output_type": "stream",
     "text": [
      "Ou es tu ? (0.0,0.0)\n",
      "Combien as tu d'écailles ? 30\n"
     ]
    },
    {
     "data": {
      "text/plain": [
       "{'x': 0.0, 'y': 0.0, 'nbEcailles': 30}"
      ]
     },
     "execution_count": 9,
     "metadata": {},
     "output_type": "execute_result"
    }
   ],
   "source": [
    "#  Definissons quelques attributs : sa position et son nombre d'écailles\n",
    "rantanplan.x = 0.0\n",
    "rantanplan.y = 0.0\n",
    "rantanplan.nbEcailles = 30\n",
    "\n",
    "print(\"Ou es tu ? ({},{})\".format(rantanplan.x, rantanplan.y))\n",
    "print(\"Combien as tu d'écailles ? {}\".format(rantanplan.nbEcailles))\n",
    "\n",
    "rantanplan.__dict__"
   ]
  },
  {
   "cell_type": "markdown",
   "id": "ba30a656-da93-4efd-8360-e6b35bbd9f9d",
   "metadata": {},
   "source": [
    "Notre Pangolin a bien maintenant trois attributs tout neufs ! A l'inverse on peut même en supprimer si on veut"
   ]
  },
  {
   "cell_type": "code",
   "execution_count": 10,
   "id": "dd094a88-b20c-4214-8537-d33140df7e76",
   "metadata": {},
   "outputs": [
    {
     "data": {
      "text/plain": [
       "{'x': 0.0, 'y': 0.0}"
      ]
     },
     "execution_count": 10,
     "metadata": {},
     "output_type": "execute_result"
    }
   ],
   "source": [
    "del rantanplan.nbEcailles\n",
    "rantanplan.__dict__"
   ]
  },
  {
   "cell_type": "markdown",
   "id": "313b7a5a-20d3-417a-bb5a-079e456392e4",
   "metadata": {},
   "source": [
    "**Attention**, c'est en général à éviter (sauf si vous avez une bonne raison de le faire) sous peine de casser du code. Pex l'instruction ci-dessous lève maintenant une erreur à l'exécution :"
   ]
  },
  {
   "cell_type": "code",
   "execution_count": 11,
   "id": "3b10bcb8-43a2-4116-b65a-eb52c98b5a3d",
   "metadata": {},
   "outputs": [
    {
     "ename": "AttributeError",
     "evalue": "'Pangolin' object has no attribute 'nbEcailles'",
     "output_type": "error",
     "traceback": [
      "\u001b[0;31m---------------------------------------------------------------------------\u001b[0m",
      "\u001b[0;31mAttributeError\u001b[0m                            Traceback (most recent call last)",
      "\u001b[0;32m<ipython-input-11-03f06623e540>\u001b[0m in \u001b[0;36m<module>\u001b[0;34m\u001b[0m\n\u001b[0;32m----> 1\u001b[0;31m \u001b[0mprint\u001b[0m\u001b[0;34m(\u001b[0m\u001b[0;34m\"Combien as tu d'écailles ? {}\"\u001b[0m\u001b[0;34m.\u001b[0m\u001b[0mformat\u001b[0m\u001b[0;34m(\u001b[0m\u001b[0mrantanplan\u001b[0m\u001b[0;34m.\u001b[0m\u001b[0mnbEcailles\u001b[0m\u001b[0;34m)\u001b[0m\u001b[0;34m)\u001b[0m  \u001b[0;31m# AttributeError !\u001b[0m\u001b[0;34m\u001b[0m\u001b[0;34m\u001b[0m\u001b[0m\n\u001b[0m",
      "\u001b[0;31mAttributeError\u001b[0m: 'Pangolin' object has no attribute 'nbEcailles'"
     ]
    }
   ],
   "source": [
    "print(\"Combien as tu d'écailles ? {}\".format(rantanplan.nbEcailles))  # AttributeError !"
   ]
  },
  {
   "cell_type": "markdown",
   "id": "124a8f21-1af0-4e4a-b60c-61ef02e9635a",
   "metadata": {},
   "source": [
    "<a id='attributs-constructeurs-methodes'></a>\n",
    "## II. Ajoutons des constructeurs et des méthodes !\n",
    "\n",
    "Dans la philosophie dans la POO, on aime regrouper la définition des attributs et méthodes au sein de la même entité syntaxique, la classe. Toutes les instances de cette classe possèderont ainsi les mêmes propriétés lors de leur création.\n",
    "\n",
    "En Java nous avions vu qu'on déclare les attributs puis on definit le(s) constructeur(s) dont le rôle est construire l'objet en mémoire et de l'initialiser. En Python, l'objet est initialisé à l'aide d'une méthode spéciale de sa classe, la méthode `__init__`. Cette dernière est appelée automatiquement à la création de l'objet et reçoit les arguments passés lors de l'instanciation.  C’est le **constructeur** qui définit et initialise les attributs de notre instance.\n",
    "\n",
    "Voyons ceci avec notre classe Pangolin :"
   ]
  },
  {
   "cell_type": "code",
   "execution_count": 12,
   "id": "20ac7f75-cefb-46af-85db-7c4930131c9a",
   "metadata": {},
   "outputs": [],
   "source": [
    "class Pangolin:\n",
    "    \"\"\"\n",
    "    Pangolin qui sait se deplacer et crier. Il est repéré par son abscisse x,\n",
    "    son ordonnée y et possède nbEcailles écailles.\n",
    "    \"\"\"\n",
    "\n",
    "    def __init__(self, xInit=0.0, yInit=0.0, nbEcailles=10):\n",
    "        # Ci-dessous la définition et initialisation des attributs\n",
    "        self.x = xInit\n",
    "        self.y = yInit\n",
    "        self.nbEcailles = nbEcailles\n",
    "\n",
    "    # Définissons maintenant les méthodes\n",
    "\n",
    "    def deplace(self, dx, dy):\n",
    "        self.x += dx\n",
    "        self.y += dy\n",
    "\n",
    "    def crie(self):\n",
    "        print(\"Gwwark Rhââgn Bwwikk\")  # Cri du pangolin"
   ]
  },
  {
   "cell_type": "markdown",
   "id": "829edb57-116d-495d-be2c-0f6e1e3f62b8",
   "metadata": {},
   "source": [
    "**A ce stade, le paramètre `self` qui arrive en premier argument des méthodes doit certainement vous interpeller...**\n",
    "\n",
    "Il désigne simplement l'objet sur lequel on applique la méthode, les autres paramètres de la méthode arrivant après. Contrairement à Java où les méthodes travaillent *implicitement* sur l'objet appelant, l'appel doit etre *explicite* en Python. C'est certes un peu plus verbeux, mais ca peut être utile notamment dans des situations d'héritage multiple (pratique interdite en Java).\n",
    "\n",
    "Contrairement au `this` de Java, `self`n'est pas un mot-clé du langage : on pourrait appeler l'objet sur lequel on travaille `foo` ou  `toto` et ca fonctionnerait pareil (**Exercice** : tester ce point) ! Néanmoins c'est une convention largement répandue en Python de le nommer `self`, et on ne saurait trop vous recommander de la respecter ne serait ce que pour la lisibilité de vos codes.\n",
    "\n",
    "Voyons maintenant comment instancier nos objets et appeler les méthodes"
   ]
  },
  {
   "cell_type": "markdown",
   "id": "710b5a7b-3c27-4f8f-ba5d-f8382aaeed98",
   "metadata": {},
   "source": [
    "### Création des instances"
   ]
  },
  {
   "cell_type": "code",
   "execution_count": 13,
   "id": "71f3cd60-2b20-4508-b045-506c1779f8ce",
   "metadata": {},
   "outputs": [
    {
     "data": {
      "text/plain": [
       "{'x': 0.0, 'y': 0.5, 'nbEcailles': 20}"
      ]
     },
     "execution_count": 13,
     "metadata": {},
     "output_type": "execute_result"
    }
   ],
   "source": [
    "# Instancions notre pangolin avec sa position initiale et son nombre d'écailles\n",
    "rantanplan = Pangolin(0.0, 0.5, 20)  # les arguments sont transmis à la méthode __init__\n",
    "rantanplan.__dict__"
   ]
  },
  {
   "cell_type": "markdown",
   "id": "76c55860-3bae-47b4-8cb0-babb8f638838",
   "metadata": {},
   "source": [
    "On peut également utiliser les valeurs par défaut pour intialiser notre objet :"
   ]
  },
  {
   "cell_type": "code",
   "execution_count": 14,
   "id": "3b97aace-01ed-41d5-ade4-52f887d93c05",
   "metadata": {},
   "outputs": [
    {
     "data": {
      "text/plain": [
       "{'x': 0.0, 'y': 0.0, 'nbEcailles': 10}"
      ]
     },
     "execution_count": 14,
     "metadata": {},
     "output_type": "execute_result"
    }
   ],
   "source": [
    "#  Avec le constructeur par défaut\n",
    "robert = Pangolin()\n",
    "robert.__dict__"
   ]
  },
  {
   "cell_type": "markdown",
   "id": "3d38c192-4cf7-4da2-b55d-7c0d3f294b86",
   "metadata": {},
   "source": [
    "**Quiz :** Comment aurait-on fait en Java pour avoir des valeurs par défaut avec notre contructeur ?"
   ]
  },
  {
   "cell_type": "markdown",
   "id": "f3661de3-d3a4-4589-b69c-57c08648ed3f",
   "metadata": {},
   "source": [
    "### Appel des méthodes"
   ]
  },
  {
   "cell_type": "code",
   "execution_count": 15,
   "id": "f623c650-0248-46b8-8565-719fd7183e7f",
   "metadata": {},
   "outputs": [
    {
     "name": "stdout",
     "output_type": "stream",
     "text": [
      "Gwwark Rhââgn Bwwikk\n"
     ]
    },
    {
     "data": {
      "text/plain": [
       "{'x': 1.0, 'y': 2.5, 'nbEcailles': 20}"
      ]
     },
     "execution_count": 15,
     "metadata": {},
     "output_type": "execute_result"
    }
   ],
   "source": [
    "# Appliquons des méthodes\n",
    "rantanplan.deplace(1, 2)  # équivalent à Pangolin.deplace(rantanplan, 1, 2)\n",
    "rantanplan.crie()  # équivalent à Pangolin.crie(rantanplan)\n",
    "rantanplan.__dict__"
   ]
  },
  {
   "cell_type": "markdown",
   "id": "8b255592-ffe3-46ac-b94e-99ac30cafe42",
   "metadata": {},
   "source": [
    "**Good news**, on retrouve bien quelque chose de familier ! Comme en Java on peut appeler une méthode directement sur l'objet : `instance.ma_methode(...)` au lieu de `MaClasse.ma_methode(instance,...)`\n",
    "comme nous l'avons pourtant définie avec le paramètre `self`... \n",
    "\n",
    "Quelle est cette magie ? C'est tout simplement l'interpréteur Python qui fait automatiquement la conversion pour nous."
   ]
  },
  {
   "cell_type": "markdown",
   "id": "43c1a39f-34a5-4013-8641-85002bafab8a",
   "metadata": {},
   "source": [
    "### Quelques méthodes particulières (méthodes *spéciales*)\n",
    "\n",
    "On a déjà parlé de la méthode  `__init__(self, ...)`, appelée automatiquement quand on crée un objet, et qui joue le rôle  du constructeur tel qu'on l'a vu en Java. Il en existe beaucoup d’autres ! \n",
    "Elles sont reconnaissables par leur nom débutant et finissant par deux soulignés (les caractères '_').\n",
    "\n",
    "En voici quelques unes :\n",
    "- `__del__(self)` : le **destructeur**, appelé par l'interpréteur quand une instance est sur le point d’être détruite (via le ramasse-miette de Python).\n",
    "- `__repr__(self)` : chaîne de caractères représentant officiellement l'objet et qui devrait permettre, lorsque c'est possible, de recréer l'objet. C'est ce qui est affiché lorsqu'on entre le nom d'un objet dans la console de l'interpréteur Python. Par défaut, retourne le type (la classe) et l'adresse mémoire de l'objet.\n",
    "- `__str__(self)` : utilisée par `str()` pour obtenir la représentation sous forme d’une chaîne de caractères *lisible* de l'objet. **C'est l'équivalent du `toString()` de Java**. Si elle n'est pas définie, `str()` retourne le résultat de `__repr__`. \n",
    "- `__bool__(self)` : utilisée par la fonction prédéfinie bool() appelée quand l’objet est considéré comme booléen (renvoie `True` ou `False`).\n",
    " \n",
    "Ainsi que les méthodes qui permettent de surcharger les opérateurs de comparaison \n",
    "\n",
    "- `__eq__(self, other)` : permet de surcharger l'opérateur `==` (equal) pour  définir l'égalité logique entre `self` et `other` : **c'est l'équivalent du `equals(Object o)` en Java** !\n",
    "\n",
    "On peut de la même manière surcharger les autres opérateurs de comparaison `!=`, `<`, `<=`,  `>`, `>=`  (toutes ces méthodes doivent retourner `NotImplemented` si l’opération n’est pas implantée pour le couple d’objets), ainsi que la méthode `__hash__()` pour obtenir le *hashcode* de l’objet (Rappelez vous que si deux objets sont égaux, ils doivent mécessairement avoir le même *hashcode* !)\n",
    "\n",
    "Et il de la même manière possible de redéfinir les opérateurs arithmétiques, par exemple `__add__(self, other)` pour `+` etc...\n",
    "\n",
    "Voir la [documentation sur les méthodes spéciales](https://docs.python.org/3/reference/datamodel.html#special-method-names) pour une liste plus exhaustive et détaillée."
   ]
  },
  {
   "cell_type": "code",
   "execution_count": 16,
   "id": "377e3c95-1b2a-4feb-9c7c-aced3d81198f",
   "metadata": {},
   "outputs": [
    {
     "name": "stdout",
     "output_type": "stream",
     "text": [
      "Le pangolin Gérard (10 écailles, coordonnées : [0.0, 0.0])\n",
      "Egalité physique :  False\n",
      "Egalité logique :  True\n"
     ]
    },
    {
     "data": {
      "text/plain": [
       "Pangolin('Gérard', 0.0, 0.0, 10)"
      ]
     },
     "execution_count": 16,
     "metadata": {},
     "output_type": "execute_result"
    }
   ],
   "source": [
    "class Pangolin:\n",
    "    \"\"\"\n",
    "    Pangolin qui sait se déplacer et crier. Il est identifié par son nom,\n",
    "    repéré par son abscisse x, son ordonnée y et possède nbEcailles écailles.\n",
    "    \"\"\"\n",
    "\n",
    "    def __init__(self, nom, xInit=0.0, yInit=0.0, nbEcailles=10):\n",
    "        # Ci-dessous la définition et initialisation des attributs\n",
    "        self.nom = nom\n",
    "        self.x = xInit\n",
    "        self.y = yInit\n",
    "        self.nbEcailles = nbEcailles\n",
    "\n",
    "    # Définissons maintenant les méthodes\n",
    "\n",
    "    def deplace(self, dx, dy):\n",
    "        self.x += dx\n",
    "        self.y += dy\n",
    "\n",
    "    def crie(self):\n",
    "        print(\"Gwwark Rhââgn Bwwikk\")  # Cri du pangolin\n",
    "\n",
    "    def __eq__(self, other):\n",
    "        return self.nom == other.nom  # Egalité logique entre chaînes\n",
    "\n",
    "    def __repr__(self):\n",
    "        return f\"Pangolin('{self.nom}', {self.x}, {self.y}, {self.nbEcailles})\"\n",
    "\n",
    "    def __str__(self):\n",
    "        return f\"Le pangolin {self.nom} ({self.nbEcailles} écailles, coordonnées : [{self.x}, {self.y}])\"\n",
    "\n",
    "\n",
    "#  Testons l'affichage\n",
    "gerard = Pangolin(\"Gérard\")\n",
    "print(gerard)\n",
    "\n",
    "# Et l'égalité\n",
    "gerard2 = Pangolin(\"Gérard\")\n",
    "print(\"Egalité physique : \", gerard is gerard2)\n",
    "print(\"Egalité logique : \", gerard == gerard2)\n",
    "gerard2  # Equivalent à repr(gerard2)"
   ]
  },
  {
   "cell_type": "markdown",
   "id": "9790fcb6-d2fd-45e8-8df6-95813e8b70aa",
   "metadata": {},
   "source": [
    "**Attention aux faux amis entre les langages !** \n",
    "\n",
    "\n",
    "En Java l'opérateur `==` teste toujours l'égalité *physique* alors qu'il peut être surchargé en Python pour tester l'égalité *logique*\n",
    "\n",
    "|Type d'égalité | Java   | Python|\n",
    "|:--------------|:------:|:-----:|\n",
    "|**Physique** <br> est ce que ce sont les mêmes objets en mémoire ?     | opérateur :  `==`  | opérateur :  `is`   <br>  équivalent à faire un test sur l'*identité* des objets : `id(self) == id(other)` |\n",
    "|**Logique**  <br> est ce que les objets ont le même sens ?  | méthode :  `equals(Object o)` <br> il faut redéfinir cette méthode | opérateur : `==`<br> il faut définir la méthode spéciale `__eq__(other)` |\n"
   ]
  },
  {
   "cell_type": "markdown",
   "id": "50a0a9ea-03f7-45c4-90b6-d60fdea48925",
   "metadata": {},
   "source": [
    "### Méthodes et attributs de classe\n",
    "\n",
    "On se souvient que les attributs de classe sont partagés par toutes les instances de la classe. En Python ils peuvent se définir dans le corps de la classe, de la même manière que les méthodes. Il n'est même pas besoin d'utiliser un mot clé `static`  comme en Java (en Python les classes sont elles mêmes des objets comme les autres et peuvent donc avoir leurs propres attributs...).\n",
    " \n",
    "De la même manière on peut définir une méthode de classe qui travaille sur la classe (et non sur un objet particulier). Son premier paramètre est nommé `cls` par convention, au lieu du `self` pour les méthodes d'instance, afin de signifier qu'elle recoit la classe courante en premier paramètre. Elle aura donc accès à tous les attributs de classe ainsi qu'aux autres méthodes de classe.\n",
    "\n",
    "En pratique pour définir une méthode de classe en Python, on précède sa définition par le *décorateur* `@classmethod`."
   ]
  },
  {
   "cell_type": "code",
   "execution_count": 17,
   "id": "e8373d3c-e60a-4385-bda9-7bc2adc808e9",
   "metadata": {},
   "outputs": [],
   "source": [
    "class Pangolin:\n",
    "    \"\"\"\n",
    "    Pangolin qui sait se deplacer et crier. Il est identifié par son nom,\n",
    "    repéré par son abscisse x, son ordonnée y et possède nbEcailles écailles.\n",
    "\n",
    "    On peut connaitre le nombre de Pangolin qui ont été créés.\n",
    "    \"\"\"\n",
    "\n",
    "    #  Un attribut de classe, partagé par tous les Pangolins\n",
    "    nbPangolins = 0\n",
    "\n",
    "    #  Une méthode de classe, indépendante de toute instance particulière\n",
    "    @classmethod\n",
    "    def nb_pangolins(cls):\n",
    "        \"\"\"Combien de Pangolin ont ils été instanciés ?\"\"\"\n",
    "        return cls.nbPangolins\n",
    "\n",
    "    def __init__(self, nom, xInit=0.0, yInit=0.0, nbEcailles=10):\n",
    "        Pangolin.nbPangolins += 1  # Un Pangolin de plus a été créé !\n",
    "        # Ci-dessous la définition et initialisation des attributs d'instance\n",
    "        self.nom = nom\n",
    "        self.x = xInit\n",
    "        self.y = yInit\n",
    "        self.nbEcailles = nbEcailles\n",
    "\n",
    "    # Définissons maintenant les méthodes\n",
    "\n",
    "    def deplace(self, dx, dy):\n",
    "        self.x += dx\n",
    "        self.y += dy\n",
    "\n",
    "    def crie(self):\n",
    "        print(Pangolin.asciilestbo() + \"Gwwark Rhââgn Bwwikk\")  # Cri du pangolin\n",
    "\n",
    "    def __eq__(self, other):\n",
    "        return self.nom == other.nom  # Egalité logique entre chaînes\n",
    "\n",
    "    def __repr__(self):\n",
    "        return f\"Pangolin('{self.nom}', {self.x}, {self.y}, {self.nbEcailles})\"\n",
    "\n",
    "    def __str__(self):\n",
    "        return f\"Le pangolin {self.nom} ({self.nbEcailles} écailles, coordonnées : [{self.x}, {self.y}])\"\n",
    "\n",
    "    #  Une méthode statique, indépendante de toute instance particulière\n",
    "    #  Egalement indépendante des attributs et methodes de classe\n",
    "    @staticmethod\n",
    "    def asciilestbo():\n",
    "        artpango = \"\"\"\n",
    "                  ,.~-~-~-~-..._\n",
    "              ,:::   ////     <: `.\n",
    "           '::  <   /////  <  <  ;:`%\n",
    "     __-:''   __<   ||||    <  <  ''c.\\ \n",
    " -==<_-^-~---'' '\\___/````````\\___/~`@ \\ \n",
    "                   vv           vv    `-'  < \"\"\"\n",
    "        return artpango"
   ]
  },
  {
   "cell_type": "code",
   "execution_count": 18,
   "id": "fea53b89-7e8a-4d89-89b6-56c221a77f3e",
   "metadata": {},
   "outputs": [
    {
     "name": "stdout",
     "output_type": "stream",
     "text": [
      "D'abord Gérard\n",
      "il y a 1 Pangolin\n",
      "il y a bien 1 Pangolin\n",
      "il y a encore 1 Pangolin\n",
      "il y a toujours 1 Pangolin\n",
      "Ajoutons Rantaplan\n",
      "il y a maintenant 2 Pangolins\n",
      "il y a toujours 2 Pangolins\n"
     ]
    }
   ],
   "source": [
    "# Crééons une paire de Pangolins\n",
    "\n",
    "print(\"D'abord Gérard\")\n",
    "gerard = Pangolin(\"Gérard\")\n",
    "print(f\"il y a {Pangolin.nb_pangolins()} Pangolin\")\n",
    "print(f\"il y a bien {gerard.nb_pangolins()} Pangolin\")\n",
    "#  On peut de la même manière accéder directement à l'attribut de classe\n",
    "print(f\"il y a encore {Pangolin.nbPangolins} Pangolin\")\n",
    "print(f\"il y a toujours {gerard.nbPangolins} Pangolin\")\n",
    "\n",
    "print(\"Ajoutons Rantaplan\")\n",
    "rantanplan = Pangolin(\"Rantanplan\")\n",
    "print(f\"il y a maintenant {Pangolin.nb_pangolins()} Pangolins\")\n",
    "print(f\"il y a toujours {gerard.nb_pangolins()} Pangolins\")"
   ]
  },
  {
   "cell_type": "markdown",
   "id": "e47a4949-0e49-4c1c-a7ca-35956d4975d3",
   "metadata": {},
   "source": [
    "On peut faire quelques remarques :\n",
    "- `@classmethod` est en fait une annotation pour appliquer le décorateur `classmethod()` sur notre méthode avec une syntaxe plus légère et lisible\n",
    "- on peut accéder à un attribut de classe, ou respectivement appeler une méthode de classe (grâce à ce décorateur), de deux manières équivalentes : soit `MaClasse.monAttribut`, respectivement `MaClasse.ma_methode()`,  soit `monInstance.monAttribut`, respectivement `monInstance.ma_methode()`. C'est tout l'intérêt du décorateur."
   ]
  },
  {
   "cell_type": "markdown",
   "id": "98490b50-ed28-4d51-8fa6-b78bb4058cb9",
   "metadata": {},
   "source": [
    "### `Static` dans tout ca ?\n",
    "\n",
    "Pour Java une méthode statique est une méthode de classe : les deux notions sont identiques. Eh bien Python fait lui la différence entre les *méthodes de classe* comme on vient de le voir,  et les *méthodes statiques*. Ces dernières sont définies dans l’espace de nom de la classe mais sont indépendantes de cette classe :  elles ne recevront donc pas le paramètre de classe `cls`, et n’auront pas accès ni aux attributs de classe ni aux méthodes de classe (encore moins aux attributs ou méthodes d'instance). Elles se définissent avec le décorateur `staticmethod()`, ce qui peut se faire facilement grâce à l'annotation `@staticmethod`.\n",
    "\n",
    "\n",
    "Les méthodes statiques sont plutôt dédiées à des comportements annexes pour définir des fonctions ou outils en rapport avec la classe, elles ne peuvent donc accéder ni aux attributs de classe ni aux méthodes de classe. Dans notre exemple ci-dessus la *méthode statique* `asciilestbo()` permet d'obtenir un dessin en art ascii (chaine de caractères) d'un pangolin, qui ne dépend de rien d'autre dans la classe, mais qui est utile ici pour la méthode `crie()`"
   ]
  },
  {
   "cell_type": "code",
   "execution_count": 19,
   "id": "8dfbbf3e-8986-4ec4-b420-899126a2df54",
   "metadata": {},
   "outputs": [
    {
     "name": "stdout",
     "output_type": "stream",
     "text": [
      "\n",
      "                  ,.~-~-~-~-..._\n",
      "              ,:::   ////     <: `.\n",
      "           '::  <   /////  <  <  ;:`%\n",
      "     __-:''   __<   ||||    <  <  ''c.\\ \n",
      " -==<_-^-~---'' '\\___/````````\\___/~`@ \\ \n",
      "                   vv           vv    `-'  < Gwwark Rhââgn Bwwikk\n"
     ]
    }
   ],
   "source": [
    "gerard.crie()"
   ]
  },
  {
   "cell_type": "markdown",
   "id": "bc575170-40fa-48c9-ab20-9fec1dce0728",
   "metadata": {},
   "source": [
    "<a id='encapsulation'></a>\n",
    "## III. Encapsulation : visibilité et protection\n",
    "\n",
    "On a vu jusqu'à maintenant que Python était très permissif concernant le changement de valeur de n'importe quel attribut depuis l'extérieur de la classe. On a vu aussi qu'il était même possible de créer de nouveaux attributs, ou d'en supprimer, de manière dynamique depuis l'extérieur ! "
   ]
  },
  {
   "cell_type": "code",
   "execution_count": 20,
   "id": "33e5b3eb-07be-4979-8dc5-e894b9877f92",
   "metadata": {},
   "outputs": [
    {
     "name": "stdout",
     "output_type": "stream",
     "text": [
      "{'nom': 'Gérard', 'x': 0.0, 'y': 0.0, 'nbEcailles': 10}\n",
      "{'nom': 'Gérard', 'x': 0.0, 'y': 0.0, 'nbEcailles': 11}\n",
      "{'nom': 'Gérard', 'x': 0.0, 'y': 0.0, 'nbEcailles': 11, 'z': 10}\n",
      "{'nom': 'Gérard', 'x': 0.0, 'y': 0.0, 'z': 10}\n"
     ]
    }
   ],
   "source": [
    "#  Un pangolin tout neuf\n",
    "gerard = Pangolin(\"Gérard\")\n",
    "print(gerard.__dict__)\n",
    "\n",
    "# Notre pangolin grandit vite...\n",
    "gerard.nbEcailles = 11\n",
    "print(gerard.__dict__)\n",
    "\n",
    "# Ajoutons un nouvel attribut à Gérard\n",
    "gerard.z = 10  # notre pangolin sait maintenant grimper !\n",
    "print(gerard.__dict__)\n",
    "\n",
    "#  Est ce qu'un pangolin peut muer ?\n",
    "del gerard.nbEcailles\n",
    "print(gerard.__dict__)"
   ]
  },
  {
   "cell_type": "markdown",
   "id": "fe4dd7ba-eea1-43b1-9cd5-882d684ff6ba",
   "metadata": {},
   "source": [
    "Dans d'autres langages orientés objet comme Java ceci n'est pas considéré comme une bonne pratique ! Il est plutôt recommandé de limiter l'accès aux propriétés des objets, et de définir lorsque c'est nécessaire des *getters* et des *setters* afin d'avoir la garantie que l'objet est toujours dans un état cohérent (souvenez vous que chaque objet est censé être responsable de son état en POO)."
   ]
  },
  {
   "cell_type": "markdown",
   "id": "8babf419-4690-482a-8904-3d65351c8f3d",
   "metadata": {},
   "source": [
    "### Information privées\n",
    "\n",
    "Il n'existe pas de mécanisme pour définir des informations privées en Python comme en Java, mais on utilise une convention : ce qui commence par un souligné \"\\_\" ne devrait pas être utilisé. \n",
    "On peut ainsi simuler une information privée, en signalant à l'utilisateur qu'il ne devrait pas s'en servir sous peine notamment de casser son code dans le futur (car tout ce qui est caché peut encore être changé).\n",
    "\n",
    "Il est aussi possible de masquer un peu plus en commençant par *deux* soulignés \"\\_\\_\".  Ce préfixe a pour effet de renommer l’attribut, ou la méthode, en y insérant le nom de la classe courante (on parle de *name mangling*) ce qui rend sa manipulation en accès ou modification moins aisée..."
   ]
  },
  {
   "cell_type": "code",
   "execution_count": 21,
   "id": "59ea1ff7-2328-4e8f-81c4-b5a1ecef0267",
   "metadata": {},
   "outputs": [
    {
     "name": "stdout",
     "output_type": "stream",
     "text": [
      "{'_nom': 'Gérard', '_x': 0.0, '_y': 0.0, '_Pangolin__nbEcailles': 10}\n",
      "Comment t'appelles tu ? Bob\n",
      "Combien d'écailles as tu ? 20\n"
     ]
    }
   ],
   "source": [
    "class Pangolin:\n",
    "    \"\"\"\n",
    "    Pangolin dont les propriétés sont \"privées\".\n",
    "    \"\"\"\n",
    "\n",
    "    def __init__(self, nom, xInit=0.0, yInit=0.0, nbEcailles=10):\n",
    "        # Par convention les attributs ci dessous sont \"privés\" (\"cachés\") car préfixés par \"_\"\n",
    "        self._nom = nom\n",
    "        self._x = xInit\n",
    "        self._y = yInit\n",
    "        # préfixe \"__\" : privé par convention + name mangling\n",
    "        self.__nbEcailles = nbEcailles\n",
    "\n",
    "\n",
    "gerard = Pangolin(\"Gérard\")\n",
    "#  Le caractère \"privé\", ou \"caché\", n'est qu'une convention.\n",
    "# Même si on ne devrait pas, on peut toujours y accéder ou le modifier...\n",
    "print(gerard.__dict__)\n",
    "gerard._nom = \"Bob\"\n",
    "print(f\"Comment t'appelles tu ? {gerard._nom}\")\n",
    "# Le name mangling impose de prefixer par la classe pour manipuler l'attribut \"caché\" __nbEcailles\n",
    "gerard._Pangolin__nbEcailles = 20\n",
    "print(f\"Combien d'écailles as tu ? {gerard._Pangolin__nbEcailles}\")"
   ]
  },
  {
   "cell_type": "code",
   "execution_count": 22,
   "id": "85cd5e60-491a-444a-ba41-ffc6f8641a54",
   "metadata": {},
   "outputs": [
    {
     "ename": "AttributeError",
     "evalue": "'Pangolin' object has no attribute '__nbEcailles'",
     "output_type": "error",
     "traceback": [
      "\u001b[0;31m---------------------------------------------------------------------------\u001b[0m",
      "\u001b[0;31mAttributeError\u001b[0m                            Traceback (most recent call last)",
      "\u001b[0;32m<ipython-input-22-1c164a452e78>\u001b[0m in \u001b[0;36m<module>\u001b[0;34m\u001b[0m\n\u001b[1;32m      1\u001b[0m \u001b[0;31m# Erreur si on essaie d'appeler directement l'attribut \"caché\" __nbEcailles sans le prefixe de classe\u001b[0m\u001b[0;34m\u001b[0m\u001b[0;34m\u001b[0m\u001b[0;34m\u001b[0m\u001b[0m\n\u001b[0;32m----> 2\u001b[0;31m \u001b[0mprint\u001b[0m\u001b[0;34m(\u001b[0m\u001b[0;34mf\"Tu m'as dit combien ? {gerard.__nbEcailles}\"\u001b[0m\u001b[0;34m)\u001b[0m  \u001b[0;31m# AttributeError !\u001b[0m\u001b[0;34m\u001b[0m\u001b[0;34m\u001b[0m\u001b[0m\n\u001b[0m",
      "\u001b[0;31mAttributeError\u001b[0m: 'Pangolin' object has no attribute '__nbEcailles'"
     ]
    }
   ],
   "source": [
    "# Erreur si on essaie d'appeler directement l'attribut \"caché\" __nbEcailles sans le prefixe de classe\n",
    "print(f\"Tu m'as dit combien ? {gerard.__nbEcailles}\")  # AttributeError !"
   ]
  },
  {
   "cell_type": "markdown",
   "id": "5f1496ef-ff8f-405d-bbec-33bef9df4dc4",
   "metadata": {},
   "source": [
    "### Accesseur et Mutateurs"
   ]
  },
  {
   "cell_type": "markdown",
   "id": "03773ad3-4432-4a2b-9d52-d018a89213c9",
   "metadata": {},
   "source": [
    "En Python, on évite de définir les *getters* (accesseurs) et les *setters* (mutateurs) avec des méthodes nommées `getXXX()` et `setXXX()`, où XXX est l'attribut ou la propriété qu'on veut manipuler. Python préconise bien de les manipuler par l’intermédiaire de méthodes qui permettent leur contrôle, mais avec une *syntaxe identique pour l'accès et la  modification*. \n",
    "\n",
    "Comment ? De manière très simple grâce à la classe `Property` et aux décorateurs associés :"
   ]
  },
  {
   "cell_type": "code",
   "execution_count": 23,
   "id": "028004c3-637c-4520-8150-33dfa7acf96c",
   "metadata": {},
   "outputs": [],
   "source": [
    "class Pangolin:\n",
    "    \"\"\"\n",
    "    Pangolin dont les propriétés sont \"privées\" et avec l'INVARIANT de classe : nbEcailles >= 0.\n",
    "    \"\"\"\n",
    "\n",
    "    def __init__(self, nom, xInit=0.0, yInit=0.0, nbEcailles=10):\n",
    "        # Par convention les attributs ci dessous sont \"privés\" car préfixés par \"__\"\n",
    "        self.__nom = nom\n",
    "        self.__x = xInit\n",
    "        self.__y = yInit\n",
    "        self.__nbEcailles = nbEcailles\n",
    "\n",
    "    # L'équivalent de notre getter java (accès en lecture) :\n",
    "    @property\n",
    "    def nbEcailles(self):\n",
    "        return self.__nbEcailles\n",
    "\n",
    "    # L'équivalent de notre setter java (accès en écriture) :\n",
    "    @nbEcailles.setter\n",
    "    def nbEcailles(self, nbEcailles):\n",
    "        if nbEcailles < 0:\n",
    "            raise ValueError(\"nbEcailles doit être non négatif\")\n",
    "        self.__nbEcailles = nbEcailles"
   ]
  },
  {
   "cell_type": "markdown",
   "id": "983243ab-eac4-4ebd-8f5f-6395f3b90b31",
   "metadata": {},
   "source": [
    "Et voici maintenant le code d'un utilisateur de la classe"
   ]
  },
  {
   "cell_type": "code",
   "execution_count": 24,
   "id": "8be9cd51-3b6a-4d3d-a975-c4f1a0951b29",
   "metadata": {},
   "outputs": [
    {
     "name": "stdout",
     "output_type": "stream",
     "text": [
      "{'_Pangolin__nom': 'Gérard', '_Pangolin__x': 0.0, '_Pangolin__y': 0.0, '_Pangolin__nbEcailles': 10}\n",
      "Combien d'écailles as tu ? 10\n",
      "Combien d'écailles as tu ? 20\n"
     ]
    }
   ],
   "source": [
    "gerard = Pangolin(\"Gérard\")\n",
    "print(gerard.__dict__)\n",
    "# Accès en lecture à \"nbEcailles\", comme si c’était un attribut (et non une méthode) !\n",
    "print(f\"Combien d'écailles as tu ? {gerard.nbEcailles}\")\n",
    "# Accès en écriture à nbEcailles, comme si c’était un attribut (et non une méthode) !\n",
    "gerard.nbEcailles = 20\n",
    "print(f\"Combien d'écailles as tu ? {gerard.nbEcailles}\")"
   ]
  },
  {
   "cell_type": "markdown",
   "id": "9e5796dd-aee6-4202-9c52-92467323638c",
   "metadata": {},
   "source": [
    "On accède donc à la proprité `nbEcailles` de la même manière en lecture et en écriture, comme si c'était un simple attribut. Mais avec la différence notable qu'on contrôle maintenant les valeurs :"
   ]
  },
  {
   "cell_type": "code",
   "execution_count": 25,
   "id": "22b9a4c3-1947-4a3e-9648-cc9a4b543589",
   "metadata": {},
   "outputs": [
    {
     "ename": "ValueError",
     "evalue": "nbEcailles doit être non négatif",
     "output_type": "error",
     "traceback": [
      "\u001b[0;31m---------------------------------------------------------------------------\u001b[0m",
      "\u001b[0;31mValueError\u001b[0m                                Traceback (most recent call last)",
      "\u001b[0;32m<ipython-input-25-8b643a48397e>\u001b[0m in \u001b[0;36m<module>\u001b[0;34m\u001b[0m\n\u001b[1;32m      1\u001b[0m \u001b[0;31m# Accès en écriture comme si c’était un attribut, mais avec le contrôle des valeurs !\u001b[0m\u001b[0;34m\u001b[0m\u001b[0;34m\u001b[0m\u001b[0;34m\u001b[0m\u001b[0m\n\u001b[0;32m----> 2\u001b[0;31m \u001b[0mgerard\u001b[0m\u001b[0;34m.\u001b[0m\u001b[0mnbEcailles\u001b[0m \u001b[0;34m=\u001b[0m \u001b[0;34m-\u001b[0m\u001b[0;36m1\u001b[0m  \u001b[0;31m# ValueError !\u001b[0m\u001b[0;34m\u001b[0m\u001b[0;34m\u001b[0m\u001b[0m\n\u001b[0m",
      "\u001b[0;32m<ipython-input-23-5e2ae8204029>\u001b[0m in \u001b[0;36mnbEcailles\u001b[0;34m(self, nbEcailles)\u001b[0m\n\u001b[1;32m     20\u001b[0m     \u001b[0;32mdef\u001b[0m \u001b[0mnbEcailles\u001b[0m\u001b[0;34m(\u001b[0m\u001b[0mself\u001b[0m\u001b[0;34m,\u001b[0m \u001b[0mnbEcailles\u001b[0m\u001b[0;34m)\u001b[0m\u001b[0;34m:\u001b[0m\u001b[0;34m\u001b[0m\u001b[0;34m\u001b[0m\u001b[0m\n\u001b[1;32m     21\u001b[0m         \u001b[0;32mif\u001b[0m \u001b[0mnbEcailles\u001b[0m \u001b[0;34m<\u001b[0m \u001b[0;36m0\u001b[0m\u001b[0;34m:\u001b[0m\u001b[0;34m\u001b[0m\u001b[0;34m\u001b[0m\u001b[0m\n\u001b[0;32m---> 22\u001b[0;31m             \u001b[0;32mraise\u001b[0m \u001b[0mValueError\u001b[0m\u001b[0;34m(\u001b[0m\u001b[0;34m\"nbEcailles doit être non négatif\"\u001b[0m\u001b[0;34m)\u001b[0m\u001b[0;34m\u001b[0m\u001b[0;34m\u001b[0m\u001b[0m\n\u001b[0m\u001b[1;32m     23\u001b[0m         \u001b[0mself\u001b[0m\u001b[0;34m.\u001b[0m\u001b[0m__nbEcailles\u001b[0m \u001b[0;34m=\u001b[0m \u001b[0mnbEcailles\u001b[0m\u001b[0;34m\u001b[0m\u001b[0;34m\u001b[0m\u001b[0m\n",
      "\u001b[0;31mValueError\u001b[0m: nbEcailles doit être non négatif"
     ]
    }
   ],
   "source": [
    "# Accès en écriture comme si c’était un attribut, mais avec le contrôle des valeurs !\n",
    "gerard.nbEcailles = -1  # ValueError !"
   ]
  },
  {
   "cell_type": "markdown",
   "id": "19f26708-177f-4449-8fb1-540ae777e869",
   "metadata": {},
   "source": [
    "**Exercice :** peux t'on utiliser la propriété `nbEcailles` directement dans le constructeur afin d'en contrôler également la valeur lors de l'initialisation  ? Réponse : oui bien sûr (et il faut le faire pour respecter l'invariant de classe), mais à tester par vous même..."
   ]
  },
  {
   "cell_type": "markdown",
   "id": "5b39b467-ae99-4bdb-a4c4-27ba448fd5a7",
   "metadata": {},
   "source": [
    "#### Pour résumer le principe des droits d'accès en Python :\n",
    "  1. On commence par définir un attribut normal.\n",
    "  2. Si on a besoin de le contrôler, on passe à une propriété : cette modification ne change en rien le code d'un utilisateur de la classe qui reste identique !"
   ]
  },
  {
   "cell_type": "markdown",
   "id": "aee33611-acd2-4335-b20d-137d7e0e6c8d",
   "metadata": {},
   "source": [
    "<a id='heritage'></a>\n",
    "## IV. Héritage\n",
    "\n",
    "Comment réaliser un `PangolinALongueQueue` en python ? \n",
    "\n",
    "Repartons d'une classe Pangolin assez complète :"
   ]
  },
  {
   "cell_type": "code",
   "execution_count": 26,
   "id": "8579258d-7925-4866-b810-9e43261a2185",
   "metadata": {},
   "outputs": [],
   "source": [
    "class Pangolin:\n",
    "    \"\"\"\n",
    "    Pangolin qui sait se deplacer et crier. Il est identifié par son nom,\n",
    "    repéré par son abscisse x, son ordonnée y et possède nbEcailles écailles.\n",
    "    \"\"\"\n",
    "\n",
    "    def __init__(self, nom, xInit=0.0, yInit=0.0, nbEcailles=10):\n",
    "        self.__nom = nom\n",
    "        self.__x = xInit\n",
    "        self.__y = yInit\n",
    "        self.nbEcailles = nbEcailles  # setter de la propriété (voir ci-dessous)\n",
    "\n",
    "    # Définissons les accesseurs/mutateurs\n",
    "    @property\n",
    "    def nom(self):  # lecture\n",
    "        return self.__nom\n",
    "\n",
    "    @property\n",
    "    def x(self):  # lecture\n",
    "        return self.__x\n",
    "\n",
    "    @property\n",
    "    def y(self):  # lecture\n",
    "        return self.__y\n",
    "\n",
    "    @property\n",
    "    def nbEcailles(self):  # lecture\n",
    "        return self.__nbEcailles\n",
    "\n",
    "    @nbEcailles.setter\n",
    "    def nbEcailles(self, nbEcailles):  # écriture avec contrôle\n",
    "        if nbEcailles < 0:\n",
    "            raise ValueError(\"nbEcailles doit être non négatif\")\n",
    "        self.__nbEcailles = nbEcailles  # on définit ici l'attribut caché\n",
    "\n",
    "    # Définissons maintenant les méthodes\n",
    "    def deplace(self, dx, dy):\n",
    "        self.__x += dx\n",
    "        self.__y += dy\n",
    "\n",
    "    def crie(self):\n",
    "        print(\"Gwwark Rhââgn Bwwikk\")  # Cri du pangolin\n",
    "\n",
    "    def __eq__(self, other):\n",
    "        return self.nom == other.nom  # Egalité logique entre chaînes\n",
    "\n",
    "    def __str__(self):\n",
    "        return f\"Le {self.__class__.__name__} {self.nom}, situé au point [{self.x}, {self.y}], ayant {self.nbEcailles} écailles\""
   ]
  },
  {
   "cell_type": "markdown",
   "id": "9819a974-3dbf-43ce-9f91-0281c3476452",
   "metadata": {},
   "source": [
    "**Question**: peut-on modifier le `nom` d'un pangolin, pex si gerard est une instance de cette classe peut-on écrire `gerard.nom = \"bob\"` ?\n",
    "\n",
    "Spécialisons maintenant cette classe pour notre nouveau type de pangolin grâce à la relation d'héritage :"
   ]
  },
  {
   "cell_type": "code",
   "execution_count": 27,
   "id": "f2cae785-8324-4145-a56e-4a10bf0c0cf1",
   "metadata": {},
   "outputs": [],
   "source": [
    "# La classe PangolinALongueQueue hérite de Pangolin\n",
    "class PangolinALongueQueue(Pangolin):\n",
    "    \"\"\"Pangolin qui a une queue dont on peut connaitre la longueur.\"\"\"\n",
    "\n",
    "    def __init__(self, nom, xInit=0.0, yInit=0.0, nbEcailles=10, longueurQueue=30):\n",
    "        #  on initialise la \"partie\" Pangolin\n",
    "        super().__init__(nom, xInit, yInit, nbEcailles)\n",
    "        # le nouvel attribut \"privé\"\n",
    "        self.__longueurQueue = longueurQueue\n",
    "\n",
    "    @property\n",
    "    def longueurQueue(self):  # accès en lecture\n",
    "        return self.__longueurQueue\n",
    "\n",
    "    # redéfinissons le cri\n",
    "    def crie(self):\n",
    "        print(\"Qeyyyoouuuu \", end=\"\")\n",
    "        super().crie()  # Cri du pangolin\n",
    "\n",
    "    # on refinit aussi la représentation sous forme de chaine de caractère\n",
    "    def __str__(self):\n",
    "        return super().__str__() + f\", une queue de {self.longueurQueue}cm\""
   ]
  },
  {
   "cell_type": "code",
   "execution_count": 28,
   "id": "b84001b5-4626-4481-a519-a715aeddba77",
   "metadata": {},
   "outputs": [
    {
     "name": "stdout",
     "output_type": "stream",
     "text": [
      "Le Pangolin Gerard, situé au point [0.0, 0.0], ayant 1542 écailles\n",
      "qui a pour cri\n",
      "Gwwark Rhââgn Bwwikk\n",
      "\n",
      "Le PangolinALongueQueue Rantanplan, situé au point [0.0, 0.0], ayant 1966 écailles, une queue de 28cm\n",
      "qui a pour cri\n",
      "Qeyyyoouuuu Gwwark Rhââgn Bwwikk\n",
      "Notre PangolinALongueQueue est il un Pangolin ? True\n"
     ]
    }
   ],
   "source": [
    "#  Un pangolin simple\n",
    "gerard = Pangolin(nom=\"Gerard\", nbEcailles=1542)\n",
    "print(gerard)\n",
    "print(\"qui a pour cri\")\n",
    "gerard.crie()\n",
    "print()\n",
    "\n",
    "#  la version à longue queue\n",
    "rantanplan = PangolinALongueQueue(nom=\"Rantanplan\", nbEcailles=1966, longueurQueue=28)\n",
    "print(rantanplan)\n",
    "print(\"qui a pour cri\")\n",
    "rantanplan.crie()\n",
    "print(\n",
    "    f\"Notre PangolinALongueQueue est il un Pangolin ? {isinstance(rantanplan,Pangolin)}\"\n",
    ")"
   ]
  },
  {
   "cell_type": "markdown",
   "id": "be09b0c9-8640-4d7f-80b2-aac4bcfbaead",
   "metadata": {},
   "source": [
    "Pour résumer l'héritage (simple) et le polymorphisme en Python :\n",
    "- on met la classe mère en paramètre de la classe fille afin de définir la relation d'héritage : on récupère ainsi tous les éléments de la classe mère, on peut redéfinir des méthodes et ajouter d'autres méthodes ou d'autres attributs \n",
    "- cet héritage réalise bien une relation de sous-typage (comme en Java) : on peut mettre un PangolinALongueQueue partout où l'on attend un Pangolin,  \n",
    "- on peut appeler les méthodes de la classe mère (la *superclasse*) via `super()` afin notamment de redéfinir les méthodes ou constructeurs de la classe fille. Ceci permet d'éviter l'ancienne solution Python consistant à nommer explicitement la classe mère, pex dans le constructeur de `PangolinALongueQueue` on écrit `super().__init__(nom,...)` au lieu de  `Pangolin.__init__(self, nom,...)` "
   ]
  },
  {
   "cell_type": "markdown",
   "id": "80fbd9d6-1608-4abe-9149-c51aa5eaef98",
   "metadata": {},
   "source": [
    "### Héritage multiple"
   ]
  },
  {
   "cell_type": "markdown",
   "id": "2b5a7cf9-32cd-4d74-8148-7f71ebcd9b0e",
   "metadata": {},
   "source": [
    "En Java et d'autres langages objets comme C# il est interdit d'hériter de plusieurs classes. Sachez qu'en python c'est permis !\n",
    "La syntaxe est simple il suffit de lister comme paramètre de la classe fille toutes les superclasses"
   ]
  },
  {
   "cell_type": "code",
   "execution_count": 29,
   "id": "1f3c3fad-5085-4ae5-b3f7-65b82d16f12f",
   "metadata": {},
   "outputs": [],
   "source": [
    "class A:\n",
    "    def foo(self):\n",
    "        return \"foo de A\"\n",
    "\n",
    "\n",
    "class B:\n",
    "    def bar(self):\n",
    "        return \"bar de B\"\n",
    "\n",
    "    def foo(self):\n",
    "        return \"foo de B\"\n",
    "\n",
    "\n",
    "# la classe C hérite de A et B\n",
    "class C(A, B):\n",
    "    pass\n",
    "\n",
    "\n",
    "#  la classe D hérite de B et A\n",
    "class D(B, A):\n",
    "    pass"
   ]
  },
  {
   "cell_type": "markdown",
   "id": "5532214e-b50e-45d5-94f7-2500c8bb6d32",
   "metadata": {},
   "source": [
    "Attention, l'ordre des superclasses a son importance : il détermine le *MRO* (Method Resolution Order), i.e. dans quel ordre les méthodes seront recherchées dans les classes mères. Ainsi, dans le cas où la méthode existe dans plusieurs parents, celle de la première classe sera conservée."
   ]
  },
  {
   "cell_type": "code",
   "execution_count": 30,
   "id": "afe5b009-a240-4eb5-bd24-4180b2a66375",
   "metadata": {},
   "outputs": [
    {
     "name": "stdout",
     "output_type": "stream",
     "text": [
      "C().foo() :  foo de A\n",
      "D().foo() :  foo de B\n",
      "Ordre des superclasses de C : [<class '__main__.C'>, <class '__main__.A'>, <class '__main__.B'>, <class 'object'>]\n",
      "Ordre des superclasses de D : [<class '__main__.D'>, <class '__main__.B'>, <class '__main__.A'>, <class 'object'>]\n"
     ]
    }
   ],
   "source": [
    "print(\"C().foo() : \", C().foo())\n",
    "print(\"D().foo() : \", D().foo())\n",
    "print(\"Ordre des superclasses de C :\", C.mro())\n",
    "print(\"Ordre des superclasses de D :\", D.mro())"
   ]
  },
  {
   "cell_type": "markdown",
   "id": "33afb31f-9d62-4e0c-b5e4-6b65a9c770e0",
   "metadata": {},
   "source": [
    "C'est aussi ce *MRO* qui est utilisé par `super()` pour trouver à quelle classe faire appel. \n",
    "Attention, dans les cas basiques comme l'exemple ci-dessus tout se passe naturellement. Mais l'héritage multiple peut donner lieu à des problèmes plus complexes... \n",
    "\n",
    "Voir la documentation https://www.python.org/download/releases/2.3/mro/ (l'algorithme est le même en python 2.3 ou python 3.X) pour comprendre les subtilités de l'algorithme du *MRO* en Python."
   ]
  },
  {
   "cell_type": "markdown",
   "id": "a7cd9bc7-4df5-4f04-872a-75c58c5a356b",
   "metadata": {},
   "source": [
    "### Classes abstraites\n",
    "\n",
    "Les classes abstraites ne font pas partie du coeur même de Python, mais sont disponibles via un module de la bibliothèque standard `abc`, abbréviation de *Abstract Base Classes* (pour les curieux, voir la [documentation python](https://docs.python.org/fr/3/library/abc.html?highlight=abs) et la [PEP 3119](https://www.python.org/dev/peps/pep-3119/)).\n",
    "\n",
    "Ce module contient la classe `ABC` et le décorateur `abstractmethod`, pour définir respectivement une classe abstraite et une méthode abstraite : une classe abstraite doit simplement hériter d’`ABC`, et utiliser ce décorateur pour définir ses méthodes abstraites."
   ]
  },
  {
   "cell_type": "code",
   "execution_count": 31,
   "id": "1017005f-e740-46b9-8d09-4cfddb135e45",
   "metadata": {},
   "outputs": [],
   "source": [
    "import abc\n",
    "\n",
    "#  on définit une classe abstraite en héritant de ABC\n",
    "class Figure(abc.ABC):\n",
    "    \"\"\"Une Figure géométrique abstraite.\n",
    "\n",
    "    Une figure géométrique est caractérisée au moins par son centre, peut se translater,\n",
    "    et pourra calculer son périmètre et sa surface (méthodes abstraites).\n",
    "\n",
    "    Cette classe est un modèle abstrait qui regroupe les propriétés communes\n",
    "    à toutes les réalisations concrètes de figures géométriques comme les\n",
    "    Cercles ou les Rectangles.\n",
    "    \"\"\"\n",
    "\n",
    "    def __init__(self, x=0, y=0):\n",
    "        self.__centreX = x\n",
    "        self.__centreY = y\n",
    "\n",
    "    def translate(self, dx, dy):\n",
    "        self.__centreX += dx\n",
    "        self.__centreY += dy\n",
    "\n",
    "    # On définit une méthode abtraite en utilisant le decorateur abstractmethod\n",
    "    @abc.abstractmethod\n",
    "    def calculePerimetre(self):\n",
    "        \"\"\"\n",
    "        Une figure a une périmètre. La méthode est abstraite car on ne sait\n",
    "        pas encore comment la calculer, mais elle sera obligatoirement\n",
    "        définie par les sous classes concrètes, pex Cercle ou Rectangle.\n",
    "        \"\"\"\n",
    "        pass\n",
    "\n",
    "    # une autre méthode abtraite\n",
    "    @abc.abstractmethod\n",
    "    def calculeSurface(self):\n",
    "        \"\"\"\n",
    "        Une figure a une surface. La méthode est abstraite car on ne sait\n",
    "        pas encore comment la calculer, mais elle sera obligatoirement\n",
    "        définie par les sous classes concrètes, pex Cercle ou Rectangle.\n",
    "        \"\"\"\n",
    "        pass\n",
    "\n",
    "    def __str__(self):\n",
    "        return f\"centre ({self.__centreX}, {self.__centreY})\""
   ]
  },
  {
   "cell_type": "markdown",
   "id": "3a42c9eb-680f-4dbd-aafe-b6e088fe8015",
   "metadata": {},
   "source": [
    "Il est bien sûr impossible de créer des objets de type `Figure`, puisque les méthodes abstraites ne sont pas implémentées"
   ]
  },
  {
   "cell_type": "code",
   "execution_count": 32,
   "id": "77f73a26-af92-45cb-bcc2-d948adeedc72",
   "metadata": {},
   "outputs": [
    {
     "ename": "TypeError",
     "evalue": "Can't instantiate abstract class Figure with abstract methods calculePerimetre, calculeSurface",
     "output_type": "error",
     "traceback": [
      "\u001b[0;31m---------------------------------------------------------------------------\u001b[0m",
      "\u001b[0;31mTypeError\u001b[0m                                 Traceback (most recent call last)",
      "\u001b[0;32m<ipython-input-32-5c03349870f5>\u001b[0m in \u001b[0;36m<module>\u001b[0;34m\u001b[0m\n\u001b[0;32m----> 1\u001b[0;31m \u001b[0mf\u001b[0m \u001b[0;34m=\u001b[0m \u001b[0mFigure\u001b[0m\u001b[0;34m(\u001b[0m\u001b[0;34m)\u001b[0m  \u001b[0;31m# TypeError (on ne peut pas instancier une classe abstraite) !\u001b[0m\u001b[0;34m\u001b[0m\u001b[0;34m\u001b[0m\u001b[0m\n\u001b[0m",
      "\u001b[0;31mTypeError\u001b[0m: Can't instantiate abstract class Figure with abstract methods calculePerimetre, calculeSurface"
     ]
    }
   ],
   "source": [
    "f = Figure()  # TypeError (on ne peut pas instancier une classe abstraite) !"
   ]
  },
  {
   "cell_type": "markdown",
   "id": "52154f71-92f1-4c81-91f6-6e156650fdb7",
   "metadata": {},
   "source": [
    "Idem pour classe héritant de `Figure` sans rédéfinir les méthodes abstraites."
   ]
  },
  {
   "cell_type": "code",
   "execution_count": 33,
   "id": "d61038f9-a022-4b1e-9098-3401432f690e",
   "metadata": {},
   "outputs": [
    {
     "ename": "TypeError",
     "evalue": "Can't instantiate abstract class FakeConcreteFigure with abstract methods calculePerimetre, calculeSurface",
     "output_type": "error",
     "traceback": [
      "\u001b[0;31m---------------------------------------------------------------------------\u001b[0m",
      "\u001b[0;31mTypeError\u001b[0m                                 Traceback (most recent call last)",
      "\u001b[0;32m<ipython-input-33-a8052eda2b4f>\u001b[0m in \u001b[0;36m<module>\u001b[0;34m\u001b[0m\n\u001b[1;32m      5\u001b[0m \u001b[0;31m# Les méthodes abstaites héritees de Figure n'ont pas été défines,\u001b[0m\u001b[0;34m\u001b[0m\u001b[0;34m\u001b[0m\u001b[0;34m\u001b[0m\u001b[0m\n\u001b[1;32m      6\u001b[0m \u001b[0;31m# FakeConcreteFigure est donc abstraite\u001b[0m\u001b[0;34m\u001b[0m\u001b[0;34m\u001b[0m\u001b[0;34m\u001b[0m\u001b[0m\n\u001b[0;32m----> 7\u001b[0;31m \u001b[0mf\u001b[0m \u001b[0;34m=\u001b[0m \u001b[0mFakeConcreteFigure\u001b[0m\u001b[0;34m(\u001b[0m\u001b[0;34m)\u001b[0m  \u001b[0;31m#  TypeError !\u001b[0m\u001b[0;34m\u001b[0m\u001b[0;34m\u001b[0m\u001b[0m\n\u001b[0m",
      "\u001b[0;31mTypeError\u001b[0m: Can't instantiate abstract class FakeConcreteFigure with abstract methods calculePerimetre, calculeSurface"
     ]
    }
   ],
   "source": [
    "class FakeConcreteFigure(Figure):\n",
    "    pass\n",
    "\n",
    "\n",
    "# Les méthodes abstaites héritees de Figure n'ont pas été défines,\n",
    "# FakeConcreteFigure est donc abstraite\n",
    "f = FakeConcreteFigure()  #  TypeError !"
   ]
  },
  {
   "cell_type": "markdown",
   "id": "7b021489-5525-4242-8189-ce252be15626",
   "metadata": {},
   "source": [
    "Aucun problème par contre avec instancier des classes qui redéfinissent bien ces méthodes"
   ]
  },
  {
   "cell_type": "code",
   "execution_count": 34,
   "id": "4df5807d-6dad-48a3-a60c-904ae18380ce",
   "metadata": {},
   "outputs": [],
   "source": [
    "import numpy as np\n",
    "\n",
    "\n",
    "class Cercle(Figure):\n",
    "    \"\"\"Un cercle est caractérisé par son centre et son rayon.\"\"\"\n",
    "\n",
    "    def __init__(self, x=0, y=0, rayon=1):\n",
    "        \"\"\"Constructeur,  par défaut cercle de rayon 1 centré sur l'origine.\"\"\"\n",
    "        super().__init__(x, y)\n",
    "        self.__rayon = rayon\n",
    "\n",
    "    @property\n",
    "    def rayon(self):  # accès en lecture\n",
    "        return self.__rayon\n",
    "\n",
    "    # définition de la méthode abstraite calculePerimetre\n",
    "    def calculePerimetre(self):\n",
    "        return 2 * np.pi * self.rayon\n",
    "\n",
    "    # définition de la méthode abstraite calculeSurface\n",
    "    def calculeSurface(self):\n",
    "        return np.pi * self.rayon ** 2\n",
    "\n",
    "    #  redéfinition du \"toString()\"\n",
    "    def __str__(self):\n",
    "        return \"Cercle \" + super().__str__() + f\" ; rayon = {self.rayon}\"\n",
    "\n",
    "\n",
    "class Rectangle(Figure):\n",
    "    \"\"\"Un rectangle est caractérisé par son centre, sa hauteur et sa largeur.\"\"\"\n",
    "\n",
    "    def __init__(self, x=0, y=0, largeur=1, hauteur=1):\n",
    "        \"\"\"Constructeur,  par défaut rectangle 1x1 centré sur l'origine.\"\"\"\n",
    "        super().__init__(x, y)\n",
    "        self.__largeur = largeur\n",
    "        self.__hauteur = hauteur\n",
    "\n",
    "    @property\n",
    "    def largeur(self):  # accès en lecture\n",
    "        return self.__largeur\n",
    "\n",
    "    @property\n",
    "    def hauteur(self):  # accès en lecture\n",
    "        return self.__hauteur\n",
    "\n",
    "    # définition de la méthode abstraite calculePerimetre\n",
    "    def calculePerimetre(self):\n",
    "        return 2 * (self.hauteur + self.largeur)\n",
    "\n",
    "    # définition de la méthode abstraite calculeSurface\n",
    "    def calculeSurface(self):\n",
    "        return self.hauteur * self.largeur\n",
    "\n",
    "    #  redéfinition du \"toString()\"\n",
    "    def __str__(self):\n",
    "        return (\n",
    "            \"Rectangle \"\n",
    "            + super().__str__()\n",
    "            + f\" ; largeur = {self.largeur}\"\n",
    "            + f\" hauteur = {self.hauteur}\"\n",
    "        )"
   ]
  },
  {
   "cell_type": "markdown",
   "id": "d33f53f6-b83a-47b4-a02f-3ffd9e4723e9",
   "metadata": {},
   "source": [
    "Testons maintenant tout ca !"
   ]
  },
  {
   "cell_type": "code",
   "execution_count": 35,
   "id": "921c8a3a-71bd-4d26-94c2-968403bb7edf",
   "metadata": {},
   "outputs": [
    {
     "name": "stdout",
     "output_type": "stream",
     "text": [
      "Cercle centre (2, 2) ; rayon = 1\n",
      "Rectangle centre (1, 2) ; largeur = 10 hauteur = 12\n",
      "** Perimètre de c = 6.283185307179586\n",
      "** Surface de r = 120\n",
      "Cercle centre (0, 0) ; rayon = 1\n",
      "Rectangle centre (1, 2) ; largeur = 3 hauteur = 4\n"
     ]
    }
   ],
   "source": [
    "c = Cercle()\n",
    "r = Rectangle(1, 2, 10, 12)\n",
    "c.translate(2, 2)\n",
    "print(c)\n",
    "print(r)\n",
    "\n",
    "print(f\"** Perimètre de c = {c.calculePerimetre()}\")\n",
    "print(f\"** Surface de r = {r.calculeSurface()}\")\n",
    "\n",
    "# un peu de polymorphisme pour finir...\n",
    "tab = np.empty(shape=2, dtype=Figure)  #  crééons un tableau de 2 figures\n",
    "tab[0] = Cercle()\n",
    "tab[1] = Rectangle(1, 2, 3, 4)\n",
    "for f in tab:\n",
    "    print(f)"
   ]
  },
  {
   "cell_type": "markdown",
   "id": "686b3333-7123-4324-b4b3-f4b5fc3b75ed",
   "metadata": {},
   "source": [
    "### Typage Canard (*Duck-Typing*) vs Héritage\n",
    "\n",
    "Python est un langage hautement dynamique pour lequel un objet est autant défini par sa structure (les attributs qu’il contient et les méthodes qui lui sont applicables) que par son type : si un objet dispose des attributs et des méthodes que l'on souhaite utiliser, c’est qu’il a le bon type !\n",
    "\n",
    "C'est ce qu'on appelle le *duck-typing* :\n",
    "\"*Si je vois un oiseau qui vole comme un canard, cancane comme un canard, et nage comme un canard, alors j’appelle cet oiseau un canard*\" (attribué à [James Whitcomb Riley](https://fr.wikipedia.org/wiki/James_Whitcomb_Riley)) dont use et abuse le langage Python.\n",
    "\n",
    "Par exemple un flux de sortie, comme la sortie standard ou un fichier,  sera simplement en Python tout objet possédant la méthode `write()` ! "
   ]
  },
  {
   "cell_type": "code",
   "execution_count": 36,
   "id": "a7815560-7698-4730-a710-02f84b16a7d2",
   "metadata": {},
   "outputs": [],
   "source": [
    "class PangolinSay:\n",
    "    \"\"\"\n",
    "    Classe de type 'fichier' qui dessine sur la sortie standard un pangolin\n",
    "    en art ASCII avec un message fourni par l'utilisateur.\n",
    "    \"\"\"\n",
    "\n",
    "    def write(self, s):\n",
    "        if s and not s.isspace():\n",
    "            print(PangolinSay.asciilestbo() + PangolinSay.alt_s(s))\n",
    "\n",
    "    #  fonctions annexes utiles pour un bel affichage\n",
    "\n",
    "    @staticmethod\n",
    "    def asciilestbo():\n",
    "        artpango = \"\"\"\n",
    "                  ,.~-~-~-~-..._\n",
    "              ,:::   ////     <: `.\n",
    "           '::  <   /////  <  <  ;:`%\n",
    "     __-:''   __<   ||||    <  <  ''c.\\ \n",
    " -==<_-^-~---'' '\\___/````````\\___/~`@ \\ \n",
    "                   vv           vv    `-'  < \"\"\"\n",
    "        \n",
    "        return artpango\n",
    "    \n",
    "    @staticmethod\n",
    "    def alt_s(msg):\n",
    "        \"\"\"Alterne la casse (majuscule/minuscule) des caractères de msg.\"\"\"\n",
    "        # facile grâce à la bibliothèque standard de Python !\n",
    "        return \"\".join(x + y for x, y in zip(msg[0::2].upper(), msg[1::2].lower()))"
   ]
  },
  {
   "cell_type": "markdown",
   "id": "4f4f0351-621d-4871-88aa-47860a00c9db",
   "metadata": {},
   "source": [
    "Crééons une instance de cette classe pour afficher dans ce 'fichier'..."
   ]
  },
  {
   "cell_type": "code",
   "execution_count": 41,
   "id": "209a4844-7ecd-4993-9412-674bdd04f51f",
   "metadata": {},
   "outputs": [
    {
     "name": "stdout",
     "output_type": "stream",
     "text": [
      "\n",
      "                  ,.~-~-~-~-..._\n",
      "              ,:::   ////     <: `.\n",
      "           '::  <   /////  <  <  ;:`%\n",
      "     __-:''   __<   ||||    <  <  ''c.\\ \n",
      " -==<_-^-~---'' '\\___/````````\\___/~`@ \\ \n",
      "                   vv           vv    `-'  < HeLlO WoRlD!\n"
     ]
    }
   ],
   "source": [
    "f = PangolinSay()\n",
    "print(\"Hello World!\", file=f)"
   ]
  },
  {
   "cell_type": "markdown",
   "id": "53394b28-7e5e-4390-a7b4-c70f734faec3",
   "metadata": {},
   "source": [
    "Cette pratique de *Duck Typing* est très commode et simple ce qui explique son usage fréquent en Python. Notons cependant qu'elle n'offre pas de relation de sous-typage explicite comme c'est le cas pour l'héritage,  ni les garanties de la programmation par contrat offerte par les classes abstraites.\n",
    "\n",
    "En effet avec une classe abstraite qui précise les méthodes que doivent définir un objet du type en question, si l'on oublie de définir une méthode alors l'erreur sera détectée dès la création de l'objet (plutôt que lors de son utilisation dans le cas du typage canard) ce qui est bien plus sûr !"
   ]
  }
 ],
 "metadata": {
  "kernelspec": {
   "display_name": "Python 3",
   "language": "python",
   "name": "python3"
  },
  "language_info": {
   "codemirror_mode": {
    "name": "ipython",
    "version": 3
   },
   "file_extension": ".py",
   "mimetype": "text/x-python",
   "name": "python",
   "nbconvert_exporter": "python",
   "pygments_lexer": "ipython3",
   "version": "3.7.9"
  },
  "widgets": {
   "application/vnd.jupyter.widget-state+json": {
    "state": {},
    "version_major": 2,
    "version_minor": 0
   }
  }
 },
 "nbformat": 4,
 "nbformat_minor": 5
}
