{
 "cells": [
  {
   "cell_type": "markdown",
   "metadata": {},
   "source": [
    "Un lien pour executer, modifier,... cet exemple pas à pas sur le serveur JupyterHub de l'UGA en cliquant sur ce badge\n",
    "[![badge](https://img.shields.io/badge/launch-UGA%20JupyterHub-F5A252.svg?logo=data:image/png;base64,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)](https://jupyterhub.u-ga.fr/hub/user-redirect/git-pull?repo=https%3A%2F%2Fgithub.com%2Ffchatelain%2FOOPExamples&urlpath=lab%2Ftree%2FOOPExamples%2FTestTableaux.ipynb&branch=master)\n",
    "(connexion avec vos identifiants Agalan)"
   ]
  },
  {
   "cell_type": "markdown",
   "metadata": {},
   "source": [
    "# Java : Tableaux, membre de classe `static` \n",
    "\n",
    "A partir de l'exemple `TestTableaux.java`"
   ]
  },
  {
   "cell_type": "code",
   "execution_count": 18,
   "metadata": {},
   "outputs": [],
   "source": [
    "// une classe un peu bête....\n",
    "class CompteEnBanque {\n",
    "    int numero;\n",
    "    int solde;\n",
    "\n",
    "    private static int nbInstances = 0; // un attribut de classe. On l'initialise lors de la déclaration\n",
    "\n",
    "    public CompteEnBanque(int solde) {\n",
    "        this.solde = solde;\n",
    "        nbInstances ++;\n",
    "        this.numero = nbInstances;\n",
    "    }\n",
    "\n",
    "    @Override\n",
    "    public String toString() {\n",
    "        return \"je suis un CompteEnBanque. numero=\" + numero + \". solde=\" + solde;\n",
    "    }\n",
    "\n",
    "    // une méthode de classe\n",
    "    static int getNbInstances() {\n",
    "        return nbInstances;\n",
    "    }\n",
    "}"
   ]
  },
  {
   "cell_type": "markdown",
   "metadata": {},
   "source": [
    "## Un premier tableau d'entiers"
   ]
  },
  {
   "cell_type": "markdown",
   "metadata": {},
   "source": [
    "* declaration \n",
    "* construction : allocation + initialisation par défaut"
   ]
  },
  {
   "cell_type": "code",
   "execution_count": 22,
   "metadata": {
    "collapsed": false,
    "jupyter": {
     "outputs_hidden": false
    }
   },
   "outputs": [],
   "source": [
    "int[] tab;         // déclaration, tab n'est pas encore initalisé. \n",
    "                   // tab est une référence, initialisée à null\n",
    "tab= new int[5];   // allocation du tableau;"
   ]
  },
  {
   "cell_type": "markdown",
   "metadata": {},
   "source": [
    "* les indices vont de `0` à `tab.length - 1`, ici `4`\n",
    "* les valeurs sont initialisées à `0`\n",
    "* la taille du tableau ne peut plus être modifiée après"
   ]
  },
  {
   "cell_type": "markdown",
   "metadata": {},
   "source": [
    "#### Acces via l'opérateur `[]`"
   ]
  },
  {
   "cell_type": "code",
   "execution_count": 23,
   "metadata": {
    "collapsed": false,
    "jupyter": {
     "outputs_hidden": false
    }
   },
   "outputs": [
    {
     "name": "stdout",
     "output_type": "stream",
     "text": [
      "valeur à l'indice 4 -> 0\n"
     ]
    }
   ],
   "source": [
    "tab[0]= 2 ;\n",
    "System.out.println(\"valeur à l'indice 4 -> \" +  tab[4] ) ; // affiche valeur à l'indice 4 -> 0"
   ]
  },
  {
   "cell_type": "markdown",
   "metadata": {},
   "source": [
    "#### Debordement"
   ]
  },
  {
   "cell_type": "code",
   "execution_count": 24,
   "metadata": {
    "collapsed": false,
    "jupyter": {
     "outputs_hidden": false
    }
   },
   "outputs": [
    {
     "ename": "EvalException",
     "evalue": "Index 5 out of bounds for length 5",
     "output_type": "error",
     "traceback": [
      "\u001b[1m\u001b[31m---------------------------------------------------------------------------\u001b[0m",
      "\u001b[1m\u001b[31mjava.lang.ArrayIndexOutOfBoundsException: Index 5 out of bounds for length 5\u001b[0m",
      "\u001b[1m\u001b[31m\tat .(#51:1)\u001b[0m"
     ]
    }
   ],
   "source": [
    "tab[5] = 45 ;   // Que se passe-t-il ?"
   ]
  },
  {
   "cell_type": "markdown",
   "metadata": {},
   "source": [
    "### Parcours du tableau :\n",
    "* parcours par une boucle et utilisation de l'attribut  `.length`, qui est immutable (déclaré `final`)"
   ]
  },
  {
   "cell_type": "code",
   "execution_count": 26,
   "metadata": {},
   "outputs": [],
   "source": [
    "for (int i = 0; i < tab.length; i++) {\n",
    "    tab[i] = 2*i;\n",
    "}"
   ]
  },
  {
   "cell_type": "markdown",
   "metadata": {},
   "source": [
    "* Autre parcours, de type **for each** : pour appliquer un traitement à **tous** les éléments contenu dans le tableau\n",
    "  * Lire *pour chaque entier \"valeur\" dans le tableau tab...*"
   ]
  },
  {
   "cell_type": "code",
   "execution_count": 27,
   "metadata": {
    "collapsed": false,
    "jupyter": {
     "outputs_hidden": false
    }
   },
   "outputs": [
    {
     "name": "stdout",
     "output_type": "stream",
     "text": [
      "valeur : 0\n",
      "valeur : 2\n",
      "valeur : 4\n",
      "valeur : 6\n",
      "valeur : 8\n"
     ]
    }
   ],
   "source": [
    "for (int valeur : tab) {\n",
    "    System.out.println(\"valeur : \" + valeur);\n",
    "}"
   ]
  },
  {
   "cell_type": "markdown",
   "metadata": {},
   "source": [
    "## Tableau 1D d'objets (ou plutôt : de références)"
   ]
  },
  {
   "cell_type": "markdown",
   "metadata": {},
   "source": [
    "* Déclaration et construction d'un tableau de références sur des objets de type CompteEnBanque"
   ]
  },
  {
   "cell_type": "code",
   "execution_count": 29,
   "metadata": {
    "collapsed": false,
    "jupyter": {
     "outputs_hidden": false
    }
   },
   "outputs": [
    {
     "name": "stdout",
     "output_type": "stream",
     "text": [
      "valeur : null\n",
      "valeur : null\n",
      "valeur : null\n",
      "valeur : null\n",
      "valeur : null\n",
      "valeur : null\n"
     ]
    }
   ],
   "source": [
    "int n = 6; // tableau dont la taille est une variable !\n",
    "CompteEnBanque[] tabDeComptes = new CompteEnBanque[n];\n",
    "// => les références sont initialisées à null \n",
    "\n",
    "for (CompteEnBanque unCompte : tabDeComptes) {     // Affiche n fois \"null\"\n",
    "    System.out.println(\"valeur : \" + unCompte);\n",
    "}"
   ]
  },
  {
   "cell_type": "markdown",
   "metadata": {},
   "source": [
    "* Construction des objets : on stocke les références dans le tableau"
   ]
  },
  {
   "cell_type": "code",
   "execution_count": 30,
   "metadata": {
    "collapsed": false,
    "jupyter": {
     "outputs_hidden": false
    }
   },
   "outputs": [],
   "source": [
    "for (int i = 0; i < tabDeComptes.length; i++) {\n",
    "    tabDeComptes[i] = new CompteEnBanque(2*i);  // allocation objet par objet\n",
    "}"
   ]
  },
  {
   "cell_type": "markdown",
   "metadata": {},
   "source": [
    "### Quizz\n",
    "* Pourquoi ne peut on pas utiliser une boucle *foreach* ci dessus ?"
   ]
  },
  {
   "cell_type": "markdown",
   "metadata": {},
   "source": [
    "### Memoire \n",
    "Comprenons bien ce qui se passe en mémoire..."
   ]
  },
  {
   "cell_type": "code",
   "execution_count": 9,
   "metadata": {
    "collapsed": false,
    "jupyter": {
     "outputs_hidden": false
    }
   },
   "outputs": [],
   "source": [
    "CompteEnBanque[] tabDeComptes2 = tabDeComptes;  //que se passe-t-il en mémoire ?\n",
    "tabDeComptes2[0] = new CompteEnBanque(1111);    //que se passe-t-il en mémoire ?\n",
    "\n",
    "// que se passe-t-il en mémoire ?\n",
    "tabDeComptes2 = new CompteEnBanque[n];\n",
    "for (int i = 0; i < tabDeComptes2.length; i++) {\n",
    "    tabDeComptes2[i] = tabDeComptes[i];\n",
    "}"
   ]
  },
  {
   "cell_type": "markdown",
   "metadata": {},
   "source": [
    "### Exemple d'appel d'une méthode static\n",
    "#### Quizz : Combien existe-t-il d'objet CompteEnBanque en mémoire ? Vérifions"
   ]
  },
  {
   "cell_type": "code",
   "execution_count": null,
   "metadata": {
    "collapsed": false,
    "jupyter": {
     "outputs_hidden": false
    }
   },
   "outputs": [],
   "source": [
    "int nbAlloues = CompteEnBanque.getNbInstances(); // méthode static => on peut utiliser le nom de la classe\n",
    "System.out.println(\"Au total, \" + nbAlloues + \" objets compte ont été alloués depuis le lancement du programme\");"
   ]
  },
  {
   "cell_type": "markdown",
   "metadata": {},
   "source": [
    "## Tableaux 2D\n",
    "\n",
    "* Tableau de *Tableau 1D*\n",
    "* allocation case par case : dimensions par forcément identiques !"
   ]
  },
  {
   "cell_type": "code",
   "execution_count": 11,
   "metadata": {
    "collapsed": false,
    "jupyter": {
     "outputs_hidden": false
    }
   },
   "outputs": [
    {
     "data": {
      "text/plain": [
       "45"
      ]
     },
     "execution_count": 11,
     "metadata": {},
     "output_type": "execute_result"
    }
   ],
   "source": [
    "int[][] tab2D;\n",
    "tab2D = new int[5][]; // tab de 5 références null\n",
    "for (int i = 0; i < tab2D.length; i++) {\n",
    "    tab2D[i] = new int[i + 1];\n",
    "}\n",
    "\n",
    "// et maintenant, tout simplement :\n",
    "tab2D[1][0] = 45;"
   ]
  },
  {
   "cell_type": "markdown",
   "metadata": {},
   "source": [
    "## Examples d'usage de la classe Arrays (=> notion secondaire pour ce module)"
   ]
  },
  {
   "cell_type": "code",
   "execution_count": 12,
   "metadata": {},
   "outputs": [],
   "source": [
    "import java.util.Arrays;\n",
    "import java.util.Random;"
   ]
  },
  {
   "cell_type": "code",
   "execution_count": 13,
   "metadata": {},
   "outputs": [],
   "source": [
    "int[] vec = new int[5];\n",
    "Random rn = new Random(); // pour avoir un générateur de nombre aléatoire\n",
    "for (int i = 0; i < tab.length; i++) {\n",
    "    vec[i] = rn.nextInt(1000); // nb aleatoire entre 0 et 999\n",
    "}"
   ]
  },
  {
   "cell_type": "markdown",
   "metadata": {},
   "source": [
    "### Tri\n",
    "* Utilisation de la _méthode de classe_ `sort()` de la classe `Arrays` qui implémente l'algorithme \"quicksort\" => en $O(n \\log(n) )$"
   ]
  },
  {
   "cell_type": "code",
   "execution_count": 14,
   "metadata": {
    "collapsed": false,
    "jupyter": {
     "outputs_hidden": false
    }
   },
   "outputs": [
    {
     "name": "stdout",
     "output_type": "stream",
     "text": [
      "valeur triées : 106\n",
      "valeur triées : 195\n",
      "valeur triées : 242\n",
      "valeur triées : 414\n",
      "valeur triées : 464\n"
     ]
    }
   ],
   "source": [
    "Arrays.sort(vec);\n",
    "for (int valeur : vec) {\n",
    "    System.out.println(\"valeur triées : \" + valeur);\n",
    "}"
   ]
  },
  {
   "cell_type": "markdown",
   "metadata": {},
   "source": [
    "### Recherche\n",
    "* avec la _méthode de classe_ `binarySearch()` de la classe `Arrays`\n",
    "* il faut que le tableau soit trié avant la recherche..."
   ]
  },
  {
   "cell_type": "code",
   "execution_count": 15,
   "metadata": {
    "collapsed": false,
    "jupyter": {
     "outputs_hidden": false
    }
   },
   "outputs": [
    {
     "name": "stdout",
     "output_type": "stream",
     "text": [
      "500 n’est pas dans le tableau\n"
     ]
    }
   ],
   "source": [
    "int pos = Arrays.binarySearch(vec, 500);\n",
    "if( pos >= 0 )\n",
    "    System.out.println(\"position de 500 : \" + pos);\n",
    "else \n",
    "    System.out.println(\"500 n’est pas dans le tableau\"); "
   ]
  },
  {
   "cell_type": "markdown",
   "metadata": {},
   "source": [
    "### Copie\n",
    "* avec la _méthode de classe_ `copyOf()` de la classe `Arrays`"
   ]
  },
  {
   "cell_type": "code",
   "execution_count": 16,
   "metadata": {
    "collapsed": false,
    "jupyter": {
     "outputs_hidden": false
    }
   },
   "outputs": [
    {
     "data": {
      "text/plain": [
       "5"
      ]
     },
     "execution_count": 16,
     "metadata": {},
     "output_type": "execute_result"
    }
   ],
   "source": [
    "int[] vec2 = Arrays.copyOf(vec, vec.length);\n",
    "vec2[3] = 5;"
   ]
  },
  {
   "cell_type": "markdown",
   "metadata": {},
   "source": [
    "* Que se passe-t-il en mémoire ?\n",
    "* Que se passe-t-il si on copie, avec `Arrays.copyOf()` un tableau *contenant* des objets ?"
   ]
  }
 ],
 "metadata": {
  "kernelspec": {
   "display_name": "Python 3 (ipykernel)",
   "language": "python",
   "name": "python3"
  },
  "language_info": {
   "codemirror_mode": {
    "name": "ipython",
    "version": 3
   },
   "file_extension": ".py",
   "mimetype": "text/x-python",
   "name": "python",
   "nbconvert_exporter": "python",
   "pygments_lexer": "ipython3",
   "version": "3.7.16"
  },
  "widgets": {
   "application/vnd.jupyter.widget-state+json": {
    "state": {},
    "version_major": 2,
    "version_minor": 0
   }
  }
 },
 "nbformat": 4,
 "nbformat_minor": 4
}
